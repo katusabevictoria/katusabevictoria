{
  "nbformat": 4,
  "nbformat_minor": 0,
  "metadata": {
    "colab": {
      "provenance": [],
      "include_colab_link": true
    },
    "kernelspec": {
      "name": "python3",
      "display_name": "Python 3"
    },
    "language_info": {
      "name": "python"
    }
  },
  "cells": [
    {
      "cell_type": "markdown",
      "metadata": {
        "id": "view-in-github",
        "colab_type": "text"
      },
      "source": [
        "<a href=\"https://colab.research.google.com/github/katusabevictoria/katusabevictoria/blob/main/Insurance_Data_Starter_Notebook.ipynb\" target=\"_parent\"><img src=\"https://colab.research.google.com/assets/colab-badge.svg\" alt=\"Open In Colab\"/></a>"
      ]
    },
    {
      "cell_type": "markdown",
      "source": [
        "# Insurance Data Starter Notebook"
      ],
      "metadata": {
        "id": "T1IcDyUABf4J"
      }
    },
    {
      "cell_type": "markdown",
      "source": [
        "Student Name:  "
      ],
      "metadata": {
        "id": "pXugLG77Vxkn"
      }
    },
    {
      "cell_type": "markdown",
      "source": [
        "## Table of Contents\n",
        "\n",
        "\n",
        "This notebook will be used for 4 practice assignments:\n",
        "- [📝 Loading Data (Practice)](#loading)\n",
        "- [📝 Slicing (Practice)](#slicing)\n",
        "- [📝 Filtering (Practice)](#filtering)\n",
        "\n",
        "\n",
        "Click on the assignment names above to jump to the corresponding headers on Google Colab.  \n",
        "\n",
        "\n",
        "\n",
        "___\n"
      ],
      "metadata": {
        "id": "mE0YWDwKB2NO"
      }
    },
    {
      "cell_type": "markdown",
      "source": [
        "\n",
        "\n",
        "Note that:\n",
        "  - The first assignment (Loading Data) must be completed before the other three assignments may be completed.\n",
        "\n",
        "  - We recommend you do each of the remaining sections as you encounter them on the Learning Platform.\n"
      ],
      "metadata": {
        "id": "PqcysCiiEAyV"
      }
    },
    {
      "cell_type": "markdown",
      "source": [
        "<a name=\"loading\"> </a>\n",
        "# 📝 Loading Data (Practice)"
      ],
      "metadata": {
        "id": "UjugclH4W23V"
      }
    },
    {
      "cell_type": "markdown",
      "source": [
        "[Insurance Data](https://drive.google.com/file/d/1-7mcBguuzAV7JWVu2XCpgAO-fO6X2cl0/view?usp=sharing)"
      ],
      "metadata": {
        "id": "qDgRQYxzoBar"
      }
    },
    {
      "cell_type": "markdown",
      "source": [
        "1) Open the link and save the shared file to your Drive in the week 2 data folder.\n",
        "\n",
        "2) Mount your drive\n",
        "\n",
        "3) Find and copy the file path of the insurance_mod.csv file"
      ],
      "metadata": {
        "id": "aLWFGWLmiXIr"
      }
    },
    {
      "cell_type": "code",
      "source": [
        "# Save the copied file path as a variable\n",
        "# Surround the path with quotes\n",
        "\n"
      ],
      "metadata": {
        "id": "B4Nd1f22inKI"
      },
      "execution_count": null,
      "outputs": []
    },
    {
      "cell_type": "code",
      "source": [
        "from google.colab import drive\n",
        "drive.mount('/content/drive')"
      ],
      "metadata": {
        "id": "BVi908b1jn98",
        "outputId": "7d56b9ba-b99d-4c31-b993-1ae3fbc5bd7c",
        "colab": {
          "base_uri": "https://localhost:8080/"
        }
      },
      "execution_count": 6,
      "outputs": [
        {
          "output_type": "stream",
          "name": "stdout",
          "text": [
            "Drive already mounted at /content/drive; to attempt to forcibly remount, call drive.mount(\"/content/drive\", force_remount=True).\n"
          ]
        }
      ]
    },
    {
      "cell_type": "markdown",
      "source": [],
      "metadata": {
        "id": "S-N6Pexcnyif"
      }
    },
    {
      "cell_type": "code",
      "source": [
        "\n",
        "filename='/content/drive/MyDrive/Week 2 data/insurance_mod (1).csv'"
      ],
      "metadata": {
        "id": "G4BvqOKFkI9r"
      },
      "execution_count": 9,
      "outputs": []
    },
    {
      "cell_type": "markdown",
      "source": [
        "4) Load in the file as a Pandas dataframe named df_insurance\n"
      ],
      "metadata": {
        "id": "CL9KQmTNivB_"
      }
    },
    {
      "cell_type": "code",
      "execution_count": null,
      "metadata": {
        "id": "77yF6E-tVrN0"
      },
      "outputs": [],
      "source": [
        "# Include needed import(s)\n",
        "\n",
        "\n",
        "# Load in the file as a Pandas dataframe named df_insurance\n"
      ]
    },
    {
      "cell_type": "markdown",
      "source": [
        "5) Preview the first 5 rows with .head()\n",
        "\n"
      ],
      "metadata": {
        "id": "xJ5WlpgdjWlU"
      }
    },
    {
      "cell_type": "code",
      "source": [
        "# Preview the first 5 rows with .head()"
      ],
      "metadata": {
        "id": "rvhk1biKjWFQ"
      },
      "execution_count": null,
      "outputs": []
    },
    {
      "cell_type": "markdown",
      "source": [
        "6) Preview the last 5 rows with .tail()"
      ],
      "metadata": {
        "id": "QZ76WUV5jYA_"
      }
    },
    {
      "cell_type": "code",
      "source": [
        "# Preview the last 5 rows with .tail()\n"
      ],
      "metadata": {
        "id": "WnaNdM9yV74Q"
      },
      "execution_count": null,
      "outputs": []
    },
    {
      "cell_type": "markdown",
      "source": [
        "7) Obtain summary information with .info()"
      ],
      "metadata": {
        "id": "FxsYQwwSjZ8r"
      }
    },
    {
      "cell_type": "code",
      "source": [
        "# Obtain summary information with .info()\n"
      ],
      "metadata": {
        "id": "xFiUrJu0WACB"
      },
      "execution_count": null,
      "outputs": []
    },
    {
      "cell_type": "markdown",
      "source": [
        "8) Use the output of .info() to answer the following in a text cell below:\n"
      ],
      "metadata": {
        "id": "798aLos2WJzK"
      }
    },
    {
      "cell_type": "markdown",
      "source": [
        "\n",
        "\n",
        "a) How many rows are there?\n",
        "\n",
        "- Answer:\n",
        "\n",
        "b) How many columns are there?\n",
        "\n",
        "- Answer:"
      ],
      "metadata": {
        "id": "xWTIuXTzTj8x"
      }
    },
    {
      "cell_type": "markdown",
      "source": [
        "## You have completed the \"Loading Data\" Practice Assignment.\n"
      ],
      "metadata": {
        "id": "Gi_mvd9baMMB"
      }
    },
    {
      "cell_type": "markdown",
      "source": [
        "\n",
        "- 🛑 Stop here.\n",
        "\n",
        "- 💾 Save and submit this notebook now.\n",
        "\n",
        "- 📚 Continue working through the lessons.\n",
        "\n",
        "- ⏎ Return to your copy of this notebook for the next practice assignment.\n",
        "\n",
        "___\n"
      ],
      "metadata": {
        "id": "CzfZgH5FCV_p"
      }
    },
    {
      "cell_type": "markdown",
      "source": [
        "<a name=\"slicing\"> </a>\n",
        "# 📝 Slicing (Practice)\n"
      ],
      "metadata": {
        "id": "-0BYRDxkZ647"
      }
    },
    {
      "cell_type": "markdown",
      "source": [
        "1) Slice the row for the customer at index 50 as a Series"
      ],
      "metadata": {
        "id": "rnwxMuiFkC_E"
      }
    },
    {
      "cell_type": "code",
      "source": [
        "# Use single brackets so the output is a Pandas Series\n"
      ],
      "metadata": {
        "id": "YmIAIxXwatOw"
      },
      "execution_count": null,
      "outputs": []
    },
    {
      "cell_type": "markdown",
      "source": [
        "2) Slice the row for the customer at index 50 as a DataFrame"
      ],
      "metadata": {
        "id": "mOuJWr8CkFBC"
      }
    },
    {
      "cell_type": "code",
      "source": [
        "# Use double brackets so the output is a Pandas Dataframe\n"
      ],
      "metadata": {
        "id": "chdwrj7ma1II"
      },
      "execution_count": null,
      "outputs": []
    },
    {
      "cell_type": "markdown",
      "source": [
        "3) Find out if the customer at index 20 was a male or female (by slicing index 20 and column \"Sex\")"
      ],
      "metadata": {
        "id": "Mw0_dDHakG9Q"
      }
    },
    {
      "cell_type": "code",
      "source": [
        "# find out if the customer at index 20 was a male or female by slicing index 20 and column \"Sex\"\n"
      ],
      "metadata": {
        "id": "ezn_6d8pa3gc"
      },
      "execution_count": null,
      "outputs": []
    },
    {
      "cell_type": "markdown",
      "source": [
        "4) Slice the entire smoker column using square brackets\n"
      ],
      "metadata": {
        "id": "EXvN0rBKkJcV"
      }
    },
    {
      "cell_type": "code",
      "source": [
        "# Slice the entire smoker column using square brackets\n"
      ],
      "metadata": {
        "id": "WIcK2scJa7JX"
      },
      "execution_count": null,
      "outputs": []
    },
    {
      "cell_type": "markdown",
      "source": [
        "5) Slice the entire smoker column using .loc\n"
      ],
      "metadata": {
        "id": "-C4qqYeDkKsl"
      }
    },
    {
      "cell_type": "code",
      "source": [
        "# Slice the entire smoker column using .loc\n"
      ],
      "metadata": {
        "id": "MzzXeAkXa8Ef"
      },
      "execution_count": null,
      "outputs": []
    },
    {
      "cell_type": "markdown",
      "source": [
        "6) Slice the entire smoker column using either method, but this time save it as a variable called \"smoker\"\n"
      ],
      "metadata": {
        "id": "Jo74xe0YkMBu"
      }
    },
    {
      "cell_type": "code",
      "source": [
        "# Slice the entire smoker column using either method, but this time save it as a variable called \"smoker\"\n"
      ],
      "metadata": {
        "id": "VNe-_UlNa-MJ"
      },
      "execution_count": null,
      "outputs": []
    },
    {
      "cell_type": "markdown",
      "source": [
        "\n",
        "- Calculate the sum of the smoker variable to see how many of the customers smoke\n"
      ],
      "metadata": {
        "id": "YPFzfIG2T_cG"
      }
    },
    {
      "cell_type": "code",
      "source": [
        "# To see how many of the customers smoke, get the sum\n"
      ],
      "metadata": {
        "id": "sA5h3uQtbA0R"
      },
      "execution_count": null,
      "outputs": []
    },
    {
      "cell_type": "markdown",
      "source": [
        "\n",
        "- Calculate the mean of the smoker variable using .mean() to see the ratio of smokers in the dataset\n"
      ],
      "metadata": {
        "id": "chMBAVijUC5u"
      }
    },
    {
      "cell_type": "code",
      "source": [
        "# To get the ratio use .mean()\n"
      ],
      "metadata": {
        "id": "dP66L49-bDvK"
      },
      "execution_count": null,
      "outputs": []
    },
    {
      "cell_type": "markdown",
      "source": [
        "## You have completed the \"Slicing Data\" Practice Assignment.\n"
      ],
      "metadata": {
        "id": "g1SxhQQlbH3G"
      }
    },
    {
      "cell_type": "markdown",
      "source": [
        "\n",
        "- 🛑 Stop here.\n",
        "\n",
        "- 💾 Save and submit this notebook now.\n",
        "\n",
        "- 📚 Continue working through the lessons.\n",
        "\n",
        "- ⏎ Return to your copy of this notebook for the next practice assignment.\n",
        "\n",
        "___\n"
      ],
      "metadata": {
        "id": "H2My6yS-CqDn"
      }
    },
    {
      "cell_type": "markdown",
      "source": [
        "<a name=\"filtering\"> </a>\n",
        "# 📝 Filtering (Practice)"
      ],
      "metadata": {
        "id": "1kZSt4JBbUvJ"
      }
    },
    {
      "cell_type": "markdown",
      "source": [
        "1) Create a filter variable called under_30_filter for rows where the age is less than 30\n",
        "\n"
      ],
      "metadata": {
        "id": "ETcSxqoHkS7J"
      }
    },
    {
      "cell_type": "code",
      "source": [
        "# Create a filter called under_30_filter for the rows where the age is less than 30\n"
      ],
      "metadata": {
        "id": "8EksQ1JqbaZe"
      },
      "execution_count": null,
      "outputs": []
    },
    {
      "cell_type": "code",
      "source": [
        "# View the under_30_filter to see the boolean index\n"
      ],
      "metadata": {
        "id": "ELLpUQyJbbXV"
      },
      "execution_count": null,
      "outputs": []
    },
    {
      "cell_type": "code",
      "source": [
        "# Get the sum of the true values for the under_30_filter\n",
        "# This is the number of customers who are under the age of 30\n"
      ],
      "metadata": {
        "id": "-Fr6jUXybdor"
      },
      "execution_count": null,
      "outputs": []
    },
    {
      "cell_type": "code",
      "source": [
        "# # Use the filter to view only rows with customers who are under 30\n"
      ],
      "metadata": {
        "id": "XJjOoY7Vbh48"
      },
      "execution_count": null,
      "outputs": []
    },
    {
      "cell_type": "markdown",
      "source": [
        "2) Create a filter for males"
      ],
      "metadata": {
        "id": "i3PbBi4ukWbP"
      }
    },
    {
      "cell_type": "code",
      "source": [
        "# Create a filter for males called male_filter\n"
      ],
      "metadata": {
        "id": "s1wh8K3MblUl"
      },
      "execution_count": null,
      "outputs": []
    },
    {
      "cell_type": "code",
      "source": [
        "# View the filter to see the boolean index\n"
      ],
      "metadata": {
        "id": "iNKD4dS9bnHc"
      },
      "execution_count": null,
      "outputs": []
    },
    {
      "cell_type": "code",
      "source": [
        "# Obtain the sum of True values in the male_filter\n",
        "# This is the number of customers who are male\n"
      ],
      "metadata": {
        "id": "HElHAEdebo80"
      },
      "execution_count": null,
      "outputs": []
    },
    {
      "cell_type": "code",
      "source": [
        "# Use the filter to view only rows with customers who are male\n"
      ],
      "metadata": {
        "id": "3uRQf_x0bq0-"
      },
      "execution_count": null,
      "outputs": []
    },
    {
      "cell_type": "markdown",
      "source": [
        "3) Combine the under_30_filter and the male_filter to create a single filter called under_30_male_filter"
      ],
      "metadata": {
        "id": "3xvUrbGQkYhj"
      }
    },
    {
      "cell_type": "code",
      "source": [
        "# Combine the under_30_filter and the male_filter to create a single filter called under_30_male_filter\n"
      ],
      "metadata": {
        "id": "XrEEVhxgbta0"
      },
      "execution_count": null,
      "outputs": []
    },
    {
      "cell_type": "code",
      "source": [
        "# Display the boolean index of the under_30_male_filter\n"
      ],
      "metadata": {
        "id": "1qQ7mYIjbvXa"
      },
      "execution_count": null,
      "outputs": []
    },
    {
      "cell_type": "code",
      "source": [
        "# Get the sum of the under_30_male_filter True values\n",
        "# This is the number of customers who are both under 30 and male\n"
      ],
      "metadata": {
        "id": "imt3cZI2bxfZ"
      },
      "execution_count": null,
      "outputs": []
    },
    {
      "cell_type": "code",
      "source": [
        "# Use the filter to view only rows with customers who are both under 30 and male\n"
      ],
      "metadata": {
        "id": "g4Ke9si1b0np"
      },
      "execution_count": null,
      "outputs": []
    },
    {
      "cell_type": "markdown",
      "source": [
        "4) Create a filter for regions that contain south using .str.contains\n",
        "\n"
      ],
      "metadata": {
        "id": "SXBbjI0RkayT"
      }
    },
    {
      "cell_type": "code",
      "source": [
        "# Create a filter for regions that contain south using .str.contains\n"
      ],
      "metadata": {
        "id": "U9EWVxwOb2wz"
      },
      "execution_count": null,
      "outputs": []
    },
    {
      "cell_type": "code",
      "source": [
        "# Use the filter to view only rows with regions containing \"south\"\n"
      ],
      "metadata": {
        "id": "cIDjCtbcb443"
      },
      "execution_count": null,
      "outputs": []
    },
    {
      "cell_type": "markdown",
      "source": [
        "## You have completed the \"Filtering Data\" Practice Assignment.\n"
      ],
      "metadata": {
        "id": "h4yZ6LECb7Mj"
      }
    },
    {
      "cell_type": "markdown",
      "source": [
        "\n",
        "- 🛑 Stop here.\n",
        "\n",
        "- 💾 Save and submit this notebook now.\n",
        "\n",
        "- 📚 Continue working through the lessons.\n",
        "\n",
        "- ⏎ Return to your copy of this notebook for the next practice assignment.\n",
        "\n",
        "___\n"
      ],
      "metadata": {
        "id": "MSpvBNFACtor"
      }
    }
  ]
}