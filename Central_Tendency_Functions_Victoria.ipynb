{
  "nbformat": 4,
  "nbformat_minor": 0,
  "metadata": {
    "colab": {
      "provenance": [],
      "authorship_tag": "ABX9TyPhjD1e4NVvfsANE3m+AajV",
      "include_colab_link": true
    },
    "kernelspec": {
      "name": "python3",
      "display_name": "Python 3"
    },
    "language_info": {
      "name": "python"
    }
  },
  "cells": [
    {
      "cell_type": "markdown",
      "metadata": {
        "id": "view-in-github",
        "colab_type": "text"
      },
      "source": [
        "<a href=\"https://colab.research.google.com/github/katusabevictoria/katusabevictoria/blob/main/Central_Tendency_Functions_Victoria.ipynb\" target=\"_parent\"><img src=\"https://colab.research.google.com/assets/colab-badge.svg\" alt=\"Open In Colab\"/></a>"
      ]
    },
    {
      "cell_type": "markdown",
      "source": [
        "**Central Tendency Functions (Core)**"
      ],
      "metadata": {
        "id": "LEN6ZMNfAZ0_"
      }
    },
    {
      "cell_type": "markdown",
      "source": [
        "Now, the Assignment:\n",
        "\n",
        "1) Open a new Colab notebook.\n",
        "\n",
        "2) Run a code cell with the lists of temperature data:"
      ],
      "metadata": {
        "id": "ozp01cfCAu_Z"
      }
    },
    {
      "cell_type": "markdown",
      "source": [
        "Lists of Fahrenheit temps;"
      ],
      "metadata": {
        "id": "ywZJ4pQLC3G4"
      }
    },
    {
      "cell_type": "code",
      "execution_count": 1,
      "metadata": {
        "id": "Daq2mXfjAUQ4"
      },
      "outputs": [],
      "source": [
        "week_1 = [45, 55, 49, 60, 52, 55, 58]\n",
        "week_2 = [51, 49, 62, 50, 53, 56, 59]\n",
        "week_3 = [60, 60, 61, 62, 57, 59, 58]\n",
        "week_4 = [59, 63, 62, 61, 65, 66, 62]"
      ]
    },
    {
      "cell_type": "markdown",
      "source": [
        "3) Add the imports you will need to find the mean, median, and mode"
      ],
      "metadata": {
        "id": "kW347S2AA3y5"
      }
    },
    {
      "cell_type": "code",
      "source": [
        "import numpy\n",
        "from scipy import stats\n",
        "import math"
      ],
      "metadata": {
        "id": "5SJtyPmVAZMO"
      },
      "execution_count": 2,
      "outputs": []
    },
    {
      "cell_type": "markdown",
      "source": [
        "4) Use functions from the imported packages to find the mean, median, and mode for the week_1 data."
      ],
      "metadata": {
        "id": "YFgPJhGYKHUV"
      }
    },
    {
      "cell_type": "code",
      "source": [
        "#week_1median = numpy.median(week_1)\n",
        "week_1median = numpy.median(week_1)\n",
        "week_2median = numpy.median(week_2)\n",
        "week_3median = numpy.median(week_3)\n",
        "week_4median = numpy.median(week_4)\n",
        "print(f'Median Is')\n",
        "print(f'Week_1 median: {week_1median}')\n",
        "print(f'Week_2 median: {week_2median}')\n",
        "print(f'Week_3 median: {week_3median}')\n",
        "print(f'Week_4 median: {week_4median}')\n",
        "week_1mean =  numpy.mean(week_1)\n",
        "week_2mean =  numpy.mean(week_2)\n",
        "week_3mean =  numpy.mean(week_3)\n",
        "week_4mean =  numpy.mean(week_4)\n",
        "print(f'Mean Is')\n",
        "print(f'Week_1 mean: {week_1mean}')\n",
        "print(f'Week_1 mean: {week_2mean}')\n",
        "print(f'Week_1 mean: {week_3mean}')\n",
        "print(f'Week_1 mean: {week_4mean}')\n",
        "\n",
        "week_1mode =  stats.mode(week_1)\n",
        "week_2mode =  stats.mode(week_2)\n",
        "week_3mode =  stats.mode(week_3)\n",
        "week_4mode =  stats.mode(week_4)\n",
        "print(f'Mode IS')\n",
        "print(f'Week_1 mode: {week_1mode}')\n",
        "print(f'Week_2 mode: {week_2mode}')\n",
        "print(f'Week_3 mode: {week_3mode}')\n",
        "print(f'Week_4 mode: {week_4mode}')"
      ],
      "metadata": {
        "colab": {
          "base_uri": "https://localhost:8080/"
        },
        "id": "woBNftX2DT12",
        "outputId": "e27d751a-76fb-4ec2-914c-9ff8746c55ba"
      },
      "execution_count": 3,
      "outputs": [
        {
          "output_type": "stream",
          "name": "stdout",
          "text": [
            "Median Is\n",
            "Week_1 median: 55.0\n",
            "Week_2 median: 53.0\n",
            "Week_3 median: 60.0\n",
            "Week_4 median: 62.0\n",
            "Mean Is\n",
            "Week_1 mean: 53.42857142857143\n",
            "Week_1 mean: 54.285714285714285\n",
            "Week_1 mean: 59.57142857142857\n",
            "Week_1 mean: 62.57142857142857\n",
            "Mode IS\n",
            "Week_1 mode: ModeResult(mode=55, count=2)\n",
            "Week_2 mode: ModeResult(mode=49, count=1)\n",
            "Week_3 mode: ModeResult(mode=60, count=2)\n",
            "Week_4 mode: ModeResult(mode=62, count=2)\n"
          ]
        }
      ]
    },
    {
      "cell_type": "markdown",
      "source": [
        "5) Now, rather than having to call each of these functions separately to get the three measures of central tendency, write a custom function to return all three values in a single function call:"
      ],
      "metadata": {
        "id": "NC4eHdr4LPTT"
      }
    },
    {
      "cell_type": "code",
      "source": [
        "def central_tendency(week_1):\n",
        "\n",
        "  mean_temp =  numpy.mean(week_1)\n",
        "  median_temp = numpy.median(week_1)\n",
        "  mode_temp =  stats.mode(week_1)\n",
        "  print(f'The temperatures in Celsius for mean_temp, median_temp, mode_temp')\n",
        "  return mean_temp,median_temp,mode_temp\n",
        "  verbose = True\n"
      ],
      "metadata": {
        "id": "rpVgu8k340q_"
      },
      "execution_count": 4,
      "outputs": []
    },
    {
      "cell_type": "markdown",
      "source": [
        "6) Test the function by calling it on week_1 data"
      ],
      "metadata": {
        "id": "GtZP7dXq6PWF"
      }
    },
    {
      "cell_type": "code",
      "source": [
        "central_tendency(week_1)"
      ],
      "metadata": {
        "colab": {
          "base_uri": "https://localhost:8080/"
        },
        "id": "SJXNb7zc5r81",
        "outputId": "53b59fed-4c0b-4732-f5ab-4fecb9b7c1e0"
      },
      "execution_count": 5,
      "outputs": [
        {
          "output_type": "stream",
          "name": "stdout",
          "text": [
            "The temperatures in Celsius for mean_temp, median_temp, mode_temp\n"
          ]
        },
        {
          "output_type": "execute_result",
          "data": {
            "text/plain": [
              "(53.42857142857143, 55.0, ModeResult(mode=55, count=2))"
            ]
          },
          "metadata": {},
          "execution_count": 5
        }
      ]
    },
    {
      "cell_type": "markdown",
      "source": [
        "7) Create a modified version of the central_tendency function to include a keyword argument with the default set to verbose = True\n"
      ],
      "metadata": {
        "id": "5BDCsUuF8WzE"
      }
    },
    {
      "cell_type": "code",
      "source": [
        "def central_tendency(week_2):\n",
        "  mean_temp =  numpy.mean(week_1)\n",
        "  median_temp = numpy.median(week_1)\n",
        "  mode_temp =  stats.mode(week_1)\n",
        "  print(f'The mean is:{mean_temp}, The Median is: {median_temp}, The Mode is:{mode_temp}')\n",
        "\n"
      ],
      "metadata": {
        "id": "EUSFRbBWJioJ"
      },
      "execution_count": 6,
      "outputs": []
    },
    {
      "cell_type": "markdown",
      "source": [
        "8) Test the function by calling it on week_2, using the function you created in task 7."
      ],
      "metadata": {
        "id": "Q9tHC2-58o5r"
      }
    },
    {
      "cell_type": "code",
      "source": [
        "central_tendency(week_2)"
      ],
      "metadata": {
        "colab": {
          "base_uri": "https://localhost:8080/"
        },
        "id": "Zs8UmeLUJyWQ",
        "outputId": "0f355b00-f50b-47b1-a8f6-45c30d328f1c"
      },
      "execution_count": 7,
      "outputs": [
        {
          "output_type": "stream",
          "name": "stdout",
          "text": [
            "The mean is:53.42857142857143, The Median is: 55.0, The Mode is:ModeResult(mode=55, count=2)\n"
          ]
        }
      ]
    }
  ]
}