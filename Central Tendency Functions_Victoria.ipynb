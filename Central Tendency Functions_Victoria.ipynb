{
  "nbformat": 4,
  "nbformat_minor": 0,
  "metadata": {
    "colab": {
      "provenance": [],
      "authorship_tag": "ABX9TyPH8hVG8nbq4nrYBB7M+bSn",
      "include_colab_link": true
    },
    "kernelspec": {
      "name": "python3",
      "display_name": "Python 3"
    },
    "language_info": {
      "name": "python"
    }
  },
  "cells": [
    {
      "cell_type": "markdown",
      "metadata": {
        "id": "view-in-github",
        "colab_type": "text"
      },
      "source": [
        "<a href=\"https://colab.research.google.com/github/katusabevictoria/katusabevictoria/blob/main/Central%20Tendency%20Functions_Victoria.ipynb\" target=\"_parent\"><img src=\"https://colab.research.google.com/assets/colab-badge.svg\" alt=\"Open In Colab\"/></a>"
      ]
    },
    {
      "cell_type": "markdown",
      "source": [
        "**Central Tendency Functions (Core)**"
      ],
      "metadata": {
        "id": "LEN6ZMNfAZ0_"
      }
    },
    {
      "cell_type": "markdown",
      "source": [
        "Now, the Assignment:\n",
        "\n",
        "1) Open a new Colab notebook.\n",
        "\n",
        "2) Run a code cell with the lists of temperature data:"
      ],
      "metadata": {
        "id": "ozp01cfCAu_Z"
      }
    },
    {
      "cell_type": "markdown",
      "source": [
        "Lists of Fahrenheit temps;"
      ],
      "metadata": {
        "id": "ywZJ4pQLC3G4"
      }
    },
    {
      "cell_type": "code",
      "execution_count": 4,
      "metadata": {
        "id": "Daq2mXfjAUQ4"
      },
      "outputs": [],
      "source": [
        "week_1 = [45, 55, 49, 60, 52, 55, 58]\n",
        "week_2 = [51, 49, 62, 50, 53, 56, 59]\n",
        "week_3 = [60, 60, 61, 62, 57, 59, 58]\n",
        "week_4 = [59, 63, 62, 61, 65, 66, 62]"
      ]
    },
    {
      "cell_type": "markdown",
      "source": [
        "3) Add the imports you will need to find the mean, median, and mode"
      ],
      "metadata": {
        "id": "kW347S2AA3y5"
      }
    },
    {
      "cell_type": "code",
      "source": [
        "import numpy"
      ],
      "metadata": {
        "id": "5SJtyPmVAZMO"
      },
      "execution_count": 5,
      "outputs": []
    }
  ]
}